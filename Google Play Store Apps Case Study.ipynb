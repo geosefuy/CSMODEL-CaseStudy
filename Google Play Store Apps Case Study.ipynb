{
 "cells": [
  {
   "cell_type": "markdown",
   "metadata": {},
   "source": [
    "Proposed Research Questions:\n",
    "1. What is/are the variables that can mostly affect the no. of installs of an app?\n",
    "2. What characteristics of a paid app can help in increasing sales (no. of installs) of an app?\n",
    "3. What is/are the variables that can mostly affect the rating of an app?\n",
    "    - Are ratings affected by application pricing?\n",
    "    - What characteristics of a paid app can help in improving the rating of an app?\n",
    "    - Are ratings relevant in user interest (no. of installs) of an app?\n",
    "4. Are genres associated with target audiences?\n",
    "5. Is it possible to suggest the rating of an app given the variables?\n"
   ]
  },
  {
   "cell_type": "code",
   "execution_count": null,
   "metadata": {},
   "outputs": [],
   "source": []
  }
 ],
 "metadata": {
  "kernelspec": {
   "display_name": "Python 3",
   "language": "python",
   "name": "python3"
  },
  "language_info": {
   "codemirror_mode": {
    "name": "ipython",
    "version": 3
   },
   "file_extension": ".py",
   "mimetype": "text/x-python",
   "name": "python",
   "nbconvert_exporter": "python",
   "pygments_lexer": "ipython3",
   "version": "3.8.3"
  }
 },
 "nbformat": 4,
 "nbformat_minor": 4
}
